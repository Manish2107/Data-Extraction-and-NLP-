{
  "nbformat": 4,
  "nbformat_minor": 0,
  "metadata": {
    "colab": {
      "provenance": []
    },
    "kernelspec": {
      "name": "python3",
      "display_name": "Python 3"
    },
    "language_info": {
      "name": "python"
    }
  },
  "cells": [
    {
      "cell_type": "markdown",
      "source": [
        "Installing  all Dependency"
      ],
      "metadata": {
        "id": "aI6_G5jUueQp"
      }
    },
    {
      "cell_type": "code",
      "execution_count": null,
      "metadata": {
        "id": "kk6sYy1LuKcm",
        "outputId": "0be540b4-09d2-4077-d6ce-d6cb40b2b78e",
        "colab": {
          "base_uri": "https://localhost:8080/"
        }
      },
      "outputs": [
        {
          "output_type": "stream",
          "name": "stdout",
          "text": [
            "Requirement already satisfied: textstat in /usr/local/lib/python3.10/dist-packages (0.7.3)\n",
            "Requirement already satisfied: pyphen in /usr/local/lib/python3.10/dist-packages (from textstat) (0.14.0)\n",
            "Requirement already satisfied: pyphen in /usr/local/lib/python3.10/dist-packages (0.14.0)\n"
          ]
        }
      ],
      "source": [
        "!pip install textstat\n",
        "!pip install pyphen\n"
      ]
    },
    {
      "cell_type": "markdown",
      "source": [
        "Main code for: Data Extraction and NLP"
      ],
      "metadata": {
        "id": "eybvTJ8kuvOq"
      }
    },
    {
      "cell_type": "code",
      "source": [
        "import pandas as pd\n",
        "import requests\n",
        "from bs4 import BeautifulSoup\n",
        "import nltk\n",
        "from nltk.sentiment.vader import SentimentIntensityAnalyzer\n",
        "from textstat import flesch_kincaid_grade, syllable_count\n",
        "from nltk.corpus import stopwords\n",
        "\n",
        "# Load NLTK's VADER sentiment analyzer\n",
        "nltk.download('vader_lexicon')\n",
        "sid = SentimentIntensityAnalyzer()\n",
        "\n",
        "# Load NLTK's stopwords\n",
        "nltk.download('stopwords')\n",
        "nltk.download('punkt')\n",
        "stop_words = set(stopwords.words('english'))\n",
        "\n",
        "# Function to extract text from a URL\n",
        "def extract_text_from_url(url):\n",
        "    try:\n",
        "        response = requests.get(url)\n",
        "        soup = BeautifulSoup(response.text, 'html.parser')\n",
        "        article = soup.find('article')  # Assuming article tags contain the main content\n",
        "        text = article.get_text()\n",
        "        return text\n",
        "    except:\n",
        "        return \"\"\n",
        "\n",
        "# Read the input data from \"Input.xlsx\"\n",
        "url_input_file = pd.read_excel(\"Input.xlsx\")\n",
        "\n",
        "# Initialize lists to store computed variables\n",
        "positive_scores = []\n",
        "negative_scores = []\n",
        "polarity_scores = []\n",
        "subjectivity_scores = []\n",
        "avg_sentence_lengths = []\n",
        "percentage_complex_words = []\n",
        "fog_indices = []\n",
        "avg_words_per_sentence = []\n",
        "complex_word_counts = []\n",
        "word_counts = []\n",
        "syllables_per_word = []\n",
        "personal_pronouns = []\n",
        "avg_word_lengths = []\n",
        "\n",
        "# Iterate through the URLs and extract text\n",
        "for url in url_input_file['URL']:\n",
        "    text = extract_text_from_url(url)\n",
        "\n",
        "    # Tokenize text into sentences and words\n",
        "    sentences = nltk.sent_tokenize(text)\n",
        "    words = nltk.word_tokenize(text)\n",
        "\n",
        "    # Check for non-zero denominators\n",
        "    num_sentences = len(sentences)\n",
        "    num_words = len(words)\n",
        "\n",
        "    if num_sentences > 0 and num_words > 0:\n",
        "        positive_scores.append(sid.polarity_scores(text)['pos'])\n",
        "        negative_scores.append(sid.polarity_scores(text)['neg'])\n",
        "        polarity_scores.append(sid.polarity_scores(text)['compound'])\n",
        "        subjectivity_scores.append(sid.polarity_scores(text)['compound'])\n",
        "        avg_sentence_lengths.append(flesch_kincaid_grade(text))\n",
        "        percentage_complex_words.append((sum(1 for word in words if word.lower() not in stop_words) / num_words) * 100)\n",
        "        fog_indices.append(0.4 * (avg_sentence_lengths[-1] + percentage_complex_words[-1]))\n",
        "        avg_words_per_sentence.append(num_words / num_sentences)\n",
        "        complex_word_counts.append(sum(1 for word in words if word.lower() not in stop_words))\n",
        "        word_counts.append(num_words)\n",
        "        syllables_per_word.append(syllable_count(text) / num_words)\n",
        "        personal_pronouns.append(sum(1 for word in words if word.lower() in ['i', 'me', 'my', 'mine', 'myself']))\n",
        "        avg_word_lengths.append(sum(len(word) for word in words) / num_words)\n",
        "    else:\n",
        "        # Handle the case where either sentences or words are zero\n",
        "        positive_scores.append(0)\n",
        "        negative_scores.append(0)\n",
        "        polarity_scores.append(0)\n",
        "        subjectivity_scores.append(0)\n",
        "        avg_sentence_lengths.append(0)\n",
        "        percentage_complex_words.append(0)\n",
        "        fog_indices.append(0)\n",
        "        avg_words_per_sentence.append(0)\n",
        "        complex_word_counts.append(0)\n",
        "        word_counts.append(0)\n",
        "        syllables_per_word.append(0)\n",
        "        personal_pronouns.append(0)\n",
        "        avg_word_lengths.append(0)\n",
        "\n",
        "# Create a DataFrame with the computed variables\n",
        "output_data = pd.DataFrame({\n",
        "    'URL_ID': url_input_file['URL_ID'],\n",
        "    'POSITIVE SCORE': positive_scores,\n",
        "    'NEGATIVE SCORE': negative_scores,\n",
        "    'POLARITY SCORE': polarity_scores,\n",
        "    'SUBJECTIVITY SCORE': subjectivity_scores,\n",
        "    'AVG SENTENCE LENGTH': avg_sentence_lengths,\n",
        "    'PERCENTAGE OF COMPLEX WORDS': percentage_complex_words,\n",
        "    'FOG INDEX': fog_indices,\n",
        "    'AVG NUMBER OF WORDS PER SENTENCE': avg_words_per_sentence,\n",
        "    'COMPLEX WORD COUNT': complex_word_counts,\n",
        "    'WORD COUNT': word_counts,\n",
        "    'SYLLABLE PER WORD': syllables_per_word,\n",
        "    'PERSONAL PRONOUNS': personal_pronouns,\n",
        "    'AVG WORD LENGTH': avg_word_lengths\n",
        "})\n",
        "\n",
        "# Save the output to \"Output.xlsx\"\n",
        "output_data.to_excel(\"Output.xlsx\", index=False)\n"
      ],
      "metadata": {
        "colab": {
          "base_uri": "https://localhost:8080/"
        },
        "id": "VfSn1M6uucpB",
        "outputId": "ebfab193-5b98-4b6c-9bf3-cf5c6b8b00ef"
      },
      "execution_count": null,
      "outputs": [
        {
          "output_type": "stream",
          "name": "stderr",
          "text": [
            "[nltk_data] Downloading package vader_lexicon to /root/nltk_data...\n",
            "[nltk_data]   Package vader_lexicon is already up-to-date!\n",
            "[nltk_data] Downloading package stopwords to /root/nltk_data...\n",
            "[nltk_data]   Package stopwords is already up-to-date!\n",
            "[nltk_data] Downloading package punkt to /root/nltk_data...\n",
            "[nltk_data]   Package punkt is already up-to-date!\n"
          ]
        }
      ]
    }
  ]
}